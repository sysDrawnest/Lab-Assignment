{
 "cells": [
  {
   "cell_type": "code",
   "execution_count": 2,
   "metadata": {},
   "outputs": [
    {
     "name": "stdout",
     "output_type": "stream",
     "text": [
      "Sai 20\n"
     ]
    }
   ],
   "source": [
    "#1. Create a simple class Person with name and age as attributes\n",
    "class Person:\n",
    "    def __init__(self, name, age):\n",
    "        self.name = name\n",
    "        self.age = age\n",
    "\n",
    "# Create an instance of the Person class\n",
    "p = Person(\"Sai\", 20)\n",
    "print(p.name, p.age) \n"
   ]
  },
  {
   "cell_type": "code",
   "execution_count": 4,
   "metadata": {},
   "outputs": [
    {
     "name": "stdout",
     "output_type": "stream",
     "text": [
      "Hello, my name is SYS and I am 20 years old.\n"
     ]
    }
   ],
   "source": [
    "#2. Add a method to the Person class that prints a greeting.\n",
    "class Person:\n",
    "    def __init__(self, name, age):\n",
    "        self.name = name\n",
    "        self.age = age\n",
    "\n",
    "    def greet(self):\n",
    "        print(f\"Hello, my name is {self.name} and I am {self.age} years old.\")\n",
    "    \n",
    "# Example usage:\n",
    "p = Person(\"SYS\", 20)\n",
    "p.greet()"
   ]
  },
  {
   "cell_type": "code",
   "execution_count": 8,
   "metadata": {},
   "outputs": [
    {
     "name": "stdout",
     "output_type": "stream",
     "text": [
      "I am a class variable\n",
      "I am an instance variable\n"
     ]
    }
   ],
   "source": [
    "#3. Class with class variable and instance variable.\n",
    "class Example:\n",
    "    class_var = \"I am a class variable\"\n",
    "\n",
    "    def __init__(self, instance_var):\n",
    "        self.instance_var = instance_var\n",
    "\n",
    "# Example usage:\n",
    "obj = Example(\"I am an instance variable\")\n",
    "print(Example.class_var)\n",
    "print(obj.instance_var)\n"
   ]
  },
  {
   "cell_type": "code",
   "execution_count": 11,
   "metadata": {},
   "outputs": [
    {
     "name": "stdout",
     "output_type": "stream",
     "text": [
      "42\n"
     ]
    }
   ],
   "source": [
    "#4. Private attribute in a class and access it using a method.\n",
    "\n",
    "class PrivateAttribute:\n",
    "    def __init__(self, value):\n",
    "        self.__private = value  # private attribute\n",
    "\n",
    "    def get_private(self):\n",
    "        return self.__private\n",
    "    \n",
    "#demo\n",
    "obj = PrivateAttribute(42)\n",
    "print(obj.get_private())\n"
   ]
  },
  {
   "cell_type": "code",
   "execution_count": 12,
   "metadata": {},
   "outputs": [
    {
     "name": "stdout",
     "output_type": "stream",
     "text": [
      "25\n"
     ]
    }
   ],
   "source": [
    "#5. Class with method returning square of a number.\n",
    "class MathOps:\n",
    "    def square(self, num):\n",
    "        return num * num\n",
    "\n",
    "# demo ex\n",
    "m = MathOps()\n",
    "print(m.square(5))\n",
    "\n"
   ]
  },
  {
   "cell_type": "code",
   "execution_count": 13,
   "metadata": {},
   "outputs": [
    {
     "name": "stdout",
     "output_type": "stream",
     "text": [
      "10\n",
      "20\n"
     ]
    }
   ],
   "source": [
    "#6. Create two objects and demonstrate independence.\n",
    "class Example:\n",
    "    def __init__(self, value):\n",
    "        self.value = value\n",
    "\n",
    "obj1 = Example(10)\n",
    "obj2 = Example(20)\n",
    "print(obj1.value)  \n",
    "print(obj2.value)  \n"
   ]
  },
  {
   "cell_type": "code",
   "execution_count": 14,
   "metadata": {},
   "outputs": [
    {
     "name": "stdout",
     "output_type": "stream",
     "text": [
      "Sai 20\n"
     ]
    }
   ],
   "source": [
    "#7. Class with method to set attributes.\n",
    "class A:\n",
    "    def set_values(self, name, age):\n",
    "        self.name = name\n",
    "        self.age = age\n",
    "\n",
    "obj=A()\n",
    "obj.set_values(\"Sai\",20)\n",
    "print(obj.name,obj.age)"
   ]
  },
  {
   "cell_type": "code",
   "execution_count": 15,
   "metadata": {},
   "outputs": [
    {
     "name": "stdout",
     "output_type": "stream",
     "text": [
      "True\n",
      "True\n"
     ]
    }
   ],
   "source": [
    "#8. Demonstrate use of isinstance().\n",
    "class Person:\n",
    "    def __init__(self, name):\n",
    "        self.name = name\n",
    "\n",
    "p = Person(\"SYS\")\n",
    "print(isinstance(p, Person))  \n",
    "print(isinstance(p, object))  \n",
    "\n"
   ]
  },
  {
   "cell_type": "code",
   "execution_count": 16,
   "metadata": {},
   "outputs": [
    {
     "name": "stdout",
     "output_type": "stream",
     "text": [
      "Parent class\n"
     ]
    }
   ],
   "source": [
    "#9. Single inheritance.\n",
    "class Parent:\n",
    "    def show(self):\n",
    "        print(\"Parent class\")\n",
    "\n",
    "class Child(Parent):\n",
    "    pass\n",
    "\n",
    "child_obj = Child()\n",
    "child_obj.show()\n"
   ]
  },
  {
   "cell_type": "code",
   "execution_count": 17,
   "metadata": {},
   "outputs": [
    {
     "name": "stdout",
     "output_type": "stream",
     "text": [
      "Base class method\n",
      "Child1 class method\n",
      "Child2 class method\n"
     ]
    }
   ],
   "source": [
    "#10. Create a base class and derive two child classes with different methods.Multi-level inheritance.\n",
    "class Base:\n",
    "    def base_method(self):\n",
    "        print(\"Base class method\")\n",
    "\n",
    "class Child1(Base):\n",
    "    def child1_method(self):\n",
    "        print(\"Child1 class method\")\n",
    "\n",
    "class Child2(Child1):\n",
    "    def child2_method(self):\n",
    "        print(\"Child2 class method\")\n",
    "\n",
    "# Example usage:\n",
    "c = Child2()\n",
    "c.base_method()\n",
    "c.child1_method()\n",
    "c.child2_method()\n",
    "\n"
   ]
  },
  {
   "cell_type": "code",
   "execution_count": 18,
   "metadata": {},
   "outputs": [
    {
     "name": "stdout",
     "output_type": "stream",
     "text": [
      "Child method\n"
     ]
    }
   ],
   "source": [
    "#method overriding in inheritance.\n",
    "class Parent:\n",
    "    def display(self):\n",
    "        print(\"Parent method\")\n",
    "\n",
    "class Child(Parent):\n",
    "    def display(self):\n",
    "        print(\"Child method\")\n",
    "\n",
    "# Example usage:\n",
    "c = Child()\n",
    "c.display()\n"
   ]
  },
  {
   "cell_type": "code",
   "execution_count": 19,
   "metadata": {},
   "outputs": [],
   "source": [
    "#12. Use super() to call a parent class method.\n",
    "class Parent:\n",
    "    def show(self):\n",
    "        print(\"Parent method\")\n",
    "\n",
    "class Child(Parent):\n",
    "    def show(self):\n",
    "        super().show()\n",
    "        print(\"Child method\")\n",
    "\n",
    "# c = Child()\n",
    "# c.display()\n"
   ]
  },
  {
   "cell_type": "code",
   "execution_count": 21,
   "metadata": {},
   "outputs": [
    {
     "name": "stdout",
     "output_type": "stream",
     "text": [
      "Area: 78.5\n"
     ]
    }
   ],
   "source": [
    "#13. Abstract base class using abc module.\n",
    "from abc import ABC, abstractmethod\n",
    "\n",
    "class Shape(ABC):\n",
    "    @abstractmethod\n",
    "    def area(self):\n",
    "        pass\n",
    "\n",
    "class Circle(Shape):\n",
    "    def __init__(self, radius):\n",
    "        self.radius = radius\n",
    "\n",
    "    def area(self):\n",
    "        return 3.14 * self.radius * self.radius\n",
    "\n",
    "# Example usage:\n",
    "c = Circle(5)\n",
    "print(\"Area:\", c.area())\n",
    "\n",
    "\n"
   ]
  },
  {
   "cell_type": "code",
   "execution_count": 22,
   "metadata": {},
   "outputs": [
    {
     "name": "stdout",
     "output_type": "stream",
     "text": [
      "Class A\n",
      "Class B\n"
     ]
    }
   ],
   "source": [
    "#14. Multiple inheritance.\n",
    "class A:\n",
    "    def method_a(self):\n",
    "        print(\"Class A\")\n",
    "\n",
    "class B:\n",
    "    def method_b(self):\n",
    "        print(\"Class B\")\n",
    "\n",
    "class C(A, B):\n",
    "    pass\n",
    "\n",
    "obj = C()\n",
    "obj.method_a()\n",
    "obj.method_b()"
   ]
  },
  {
   "cell_type": "code",
   "execution_count": 26,
   "metadata": {},
   "outputs": [
    {
     "name": "stdout",
     "output_type": "stream",
     "text": [
      "SYS\n",
      "Sai Yangyadatta Sethy\n"
     ]
    }
   ],
   "source": [
    "#15. Encapsulation using getter and setter.\n",
    "class Student:\n",
    "    def __init__(self, name):\n",
    "        self.__name = name\n",
    "\n",
    "    def get_name(self):\n",
    "        return self.__name\n",
    "\n",
    "    def set_name(self, name):\n",
    "        self.__name = name\n",
    "\n",
    "s = Student(\"SYS\")\n",
    "print(s.get_name())\n",
    "s.set_name(\"Sai Yangyadatta Sethy\")\n",
    "print(s.get_name())\n"
   ]
  },
  {
   "cell_type": "code",
   "execution_count": 28,
   "metadata": {},
   "outputs": [
    {
     "name": "stdout",
     "output_type": "stream",
     "text": [
      "Meow\n",
      "Bhau\n"
     ]
    }
   ],
   "source": [
    "#16. Polymorphism with a common method.\n",
    "class Cat:\n",
    "    def sound(self):\n",
    "        print(\"Meow\")\n",
    "\n",
    "class Dog:\n",
    "    def sound(self):\n",
    "        print(\"Bhau\")\n",
    "\n",
    "for animal in (Cat(), Dog()):\n",
    "    animal.sound()\n",
    "\n"
   ]
  },
  {
   "cell_type": "code",
   "execution_count": 27,
   "metadata": {},
   "outputs": [
    {
     "name": "stdout",
     "output_type": "stream",
     "text": [
      "Total employees: 3\n"
     ]
    }
   ],
   "source": [
    "#17. Class Employee with count of employees created.\n",
    "class Employee:\n",
    "    count = 0\n",
    "\n",
    "    def __init__(self, name):\n",
    "        self.name = name\n",
    "        Employee.count += 1\n",
    "\n",
    "    @staticmethod\n",
    "    def display_count():\n",
    "        print(f\"Total employees: {Employee.count}\")\n",
    "\n",
    "emp1 = Employee(\"SYS\")\n",
    "emp2 = Employee(\"Sai\")\n",
    "emp3 = Employee(\"Yadatta\")\n",
    "\n",
    "Employee.display_count()"
   ]
  },
  {
   "cell_type": "code",
   "execution_count": 28,
   "metadata": {},
   "outputs": [
    {
     "name": "stdout",
     "output_type": "stream",
     "text": [
      "0 0\n",
      "10 0\n",
      "20 30\n"
     ]
    }
   ],
   "source": [
    "#18. Constructor overloading using default arguments.\n",
    "class Demo:\n",
    "    def __init__(self, x=0, y=0):\n",
    "        self.x = x\n",
    "        self.y = y\n",
    "\n",
    "obj1 = Demo()\n",
    "obj2 = Demo(10)\n",
    "obj3 = Demo(20, 30)\n",
    "\n",
    "print(obj1.x, obj1.y)\n",
    "print(obj2.x, obj2.y)\n",
    "print(obj3.x, obj3.y)"
   ]
  },
  {
   "cell_type": "code",
   "execution_count": 29,
   "metadata": {},
   "outputs": [
    {
     "name": "stdout",
     "output_type": "stream",
     "text": [
      "Balance: 50\n"
     ]
    }
   ],
   "source": [
    "#19. Bank account system with deposit and withdrawal.\n",
    "class BankAccount:\n",
    "    def __init__(self, balance=0):\n",
    "        self.balance = balance\n",
    "\n",
    "    def deposit(self, amount):\n",
    "        self.balance += amount\n",
    "\n",
    "    def withdraw(self, amount):\n",
    "        if amount <= self.balance:\n",
    "            self.balance -= amount\n",
    "        else:\n",
    "            print(\"Insufficient balance\")\n",
    "\n",
    "    def display(self):\n",
    "        print(f\"Balance: {self.balance}\")\n",
    "\n",
    "# Example usage:\n",
    "account = BankAccount()\n",
    "account.deposit(100)\n",
    "account.withdraw(50)\n",
    "account.display()\n"
   ]
  },
  {
   "cell_type": "code",
   "execution_count": 30,
   "metadata": {},
   "outputs": [
    {
     "name": "stdout",
     "output_type": "stream",
     "text": [
      "Area: 15\n",
      "Perimeter: 16\n"
     ]
    }
   ],
   "source": [
    "#20. Class Rectangle with area and perimeter.\n",
    "class Rectangle:\n",
    "    def __init__(self, length, breadth):\n",
    "        self.length = length\n",
    "        self.breadth = breadth\n",
    "\n",
    "    def area(self):\n",
    "        return self.length * self.breadth\n",
    "\n",
    "    def perimeter(self):\n",
    "        return 2 * (self.length + self.breadth)\n",
    "    \n",
    "\n",
    "# Example usage:\n",
    "rect = Rectangle(5, 3)\n",
    "print(\"Area:\", rect.area())\n",
    "print(\"Perimeter:\", rect.perimeter())\n"
   ]
  }
 ],
 "metadata": {
  "kernelspec": {
   "display_name": "Python 3",
   "language": "python",
   "name": "python3"
  },
  "language_info": {
   "codemirror_mode": {
    "name": "ipython",
    "version": 3
   },
   "file_extension": ".py",
   "mimetype": "text/x-python",
   "name": "python",
   "nbconvert_exporter": "python",
   "pygments_lexer": "ipython3",
   "version": "3.9.13"
  },
  "orig_nbformat": 4
 },
 "nbformat": 4,
 "nbformat_minor": 2
}
